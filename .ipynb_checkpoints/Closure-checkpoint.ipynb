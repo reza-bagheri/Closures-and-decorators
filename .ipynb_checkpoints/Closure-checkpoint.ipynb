{
 "cells": [
  {
   "cell_type": "code",
   "execution_count": null,
   "metadata": {},
   "outputs": [],
   "source": [
    "def f(x):          f(a)(b) = (f(a))(b) = g(b)\n",
    "    def g(y):\n",
    "        return y\n",
    "    return g\n",
    "\n"
   ]
  },
  {
   "cell_type": "code",
   "execution_count": null,
   "metadata": {},
   "outputs": [],
   "source": [
    "def f(x):\n",
    "    z = 2\n",
    "    def g(y):\n",
    "        return z * x + y\n",
    "    return g"
   ]
  },
  {
   "cell_type": "code",
   "execution_count": null,
   "metadata": {},
   "outputs": [],
   "source": [
    "def f(x):\n",
    "    z = 2\n",
    "    def g(y):\n",
    "        return y\n",
    "    return g"
   ]
  },
  {
   "cell_type": "code",
   "execution_count": 367,
   "metadata": {},
   "outputs": [],
   "source": [
    "def add(x, y, z):\n",
    "    return x+y+z"
   ]
  },
  {
   "cell_type": "code",
   "execution_count": 17,
   "metadata": {},
   "outputs": [],
   "source": [
    "func = lambda x,y,z: x**2 + 2*y + z"
   ]
  },
  {
   "cell_type": "code",
   "execution_count": 23,
   "metadata": {},
   "outputs": [],
   "source": [
    "# Listing 18\n",
    "def curry(f):\n",
    "    argc = f.__code__.co_argcount\n",
    "    f_args = []\n",
    "    f_kwargs = {}\n",
    "    def g(*args, **kwargs):\n",
    "        nonlocal f_args, f_kwargs\n",
    "        f_args += args\n",
    "        f_kwargs.update(kwargs)\n",
    "        if len(f_args)+len(f_kwargs) == argc:\n",
    "            return f(*f_args, **f_kwargs)\n",
    "        else:\n",
    "            return g          \n",
    "    return g"
   ]
  },
  {
   "cell_type": "code",
   "execution_count": 24,
   "metadata": {},
   "outputs": [
    {
     "data": {
      "text/plain": [
       "<function __main__.curry.<locals>.g(*args, **kwargs)>"
      ]
     },
     "execution_count": 24,
     "metadata": {},
     "output_type": "execute_result"
    }
   ],
   "source": [
    "cfunc = curry(func)\n",
    "cfunc(1)(2) "
   ]
  },
  {
   "cell_type": "code",
   "execution_count": 25,
   "metadata": {},
   "outputs": [
    {
     "data": {
      "text/plain": [
       "8"
      ]
     },
     "execution_count": 25,
     "metadata": {},
     "output_type": "execute_result"
    }
   ],
   "source": [
    "cfunc(3)"
   ]
  },
  {
   "cell_type": "code",
   "execution_count": 27,
   "metadata": {},
   "outputs": [],
   "source": [
    "# Listing 20\n",
    "\n",
    "def deco1(f):\n",
    "def deco2(f):\n",
    "def decoN(f):\n",
    "    .\n",
    "    .\n",
    "    .\n",
    "    def g(*args, **kwargs):\n",
    "        .\n",
    "        .\n",
    "        .\n",
    "    return g\n",
    "func = decoN(...deco2(deco1(func)))\n",
    "\n",
    "@deco2\n",
    "@deco1\n",
    "def func(x):\n",
    "    .\n",
    "    .\n",
    "    .\n",
    "\n"
   ]
  },
  {
   "cell_type": "code",
   "execution_count": null,
   "metadata": {},
   "outputs": [],
   "source": []
  },
  {
   "cell_type": "code",
   "execution_count": null,
   "metadata": {},
   "outputs": [],
   "source": []
  },
  {
   "cell_type": "code",
   "execution_count": null,
   "metadata": {},
   "outputs": [],
   "source": []
  },
  {
   "cell_type": "code",
   "execution_count": null,
   "metadata": {},
   "outputs": [],
   "source": []
  },
  {
   "cell_type": "code",
   "execution_count": 13,
   "metadata": {},
   "outputs": [
    {
     "name": "stdout",
     "output_type": "stream",
     "text": [
      "Decorator was executed\n",
      "Calling  func\n"
     ]
    },
    {
     "data": {
      "text/plain": [
       "4"
      ]
     },
     "execution_count": 13,
     "metadata": {},
     "output_type": "execute_result"
    }
   ],
   "source": [
    "def deco(f):\n",
    "    print(\"Decorator was executed\")\n",
    "    def g(*args, **kwargs):\n",
    "        print(\"Calling \", f.__name__)\n",
    "        return f(*args, **kwargs)\n",
    "    return g\n",
    "@deco\n",
    "def func(x):\n",
    "    return 2*x\n",
    "func(2)"
   ]
  },
  {
   "cell_type": "code",
   "execution_count": 5,
   "metadata": {},
   "outputs": [
    {
     "data": {
      "text/plain": [
       "'g'"
      ]
     },
     "execution_count": 5,
     "metadata": {},
     "output_type": "execute_result"
    }
   ],
   "source": [
    "f.__name__"
   ]
  },
  {
   "cell_type": "code",
   "execution_count": 11,
   "metadata": {},
   "outputs": [
    {
     "name": "stdout",
     "output_type": "stream",
     "text": [
      "a= [1, 2, 3, 4]\n",
      "b= 5\n"
     ]
    }
   ],
   "source": [
    "def func(x, y):\n",
    "    x.append(4)\n",
    "    y = y + 1\n",
    "a= [1, 2, 3]\n",
    "b = 5\n",
    "func(a, b)\n",
    "print(\"a=\", a)\n",
    "print(\"b=\", b)"
   ]
  },
  {
   "cell_type": "code",
   "execution_count": null,
   "metadata": {},
   "outputs": [],
   "source": []
  },
  {
   "cell_type": "code",
   "execution_count": null,
   "metadata": {},
   "outputs": [],
   "source": []
  },
  {
   "cell_type": "code",
   "execution_count": null,
   "metadata": {},
   "outputs": [],
   "source": []
  },
  {
   "cell_type": "code",
   "execution_count": null,
   "metadata": {},
   "outputs": [],
   "source": [
    "# dummy\n",
    "def curry(f):\n",
    "    argc = f.__code__.co_argcount\n",
    "    f_args = []\n",
    "    f_kwargs = {}\n",
    "    def g(*args, **kwargs):\n",
    "        nonlocal f_args, f_kwargs\n",
    "        if len(args)+len(kwargs) > argc:\n",
    "            raise Exception('Too many arguments!')\n",
    "        f_args += args\n",
    "        f_kwargs.update(kwargs)\n",
    "        if len(f_args)+len(f_kwargs)==argc:\n",
    "            return f(*f_args, **f_kwargs)\n",
    "        else:\n",
    "            return g          \n",
    "    return g"
   ]
  },
  {
   "cell_type": "code",
   "execution_count": 401,
   "metadata": {},
   "outputs": [
    {
     "name": "stdout",
     "output_type": "stream",
     "text": [
      "0 1 1 2 3 5 "
     ]
    }
   ],
   "source": [
    "# Listing 19\n",
    "def fib(n):\n",
    "    if n == 0:\n",
    "        return 0\n",
    "    elif n == 1:\n",
    "        return 1\n",
    "    else:\n",
    "        return fib(n-1) + fib(n-2)\n",
    "for i in range(6):\n",
    "    print(fib(i), end=\" \")\n",
    "# Output\n",
    "# 0 1 2 3 5"
   ]
  },
  {
   "cell_type": "code",
   "execution_count": 402,
   "metadata": {},
   "outputs": [],
   "source": [
    "def memoize(f):\n",
    "    memo = {}\n",
    "    def memoized_func(x):\n",
    "        if x not in memo:            \n",
    "            memo[x] = f(x)\n",
    "        return memo[x]\n",
    "    return memoized_func"
   ]
  },
  {
   "cell_type": "code",
   "execution_count": 405,
   "metadata": {},
   "outputs": [
    {
     "data": {
      "text/plain": [
       "832040"
      ]
     },
     "execution_count": 405,
     "metadata": {},
     "output_type": "execute_result"
    }
   ],
   "source": [
    "fib = memoize(fib)\n",
    "fib(30)"
   ]
  },
  {
   "cell_type": "code",
   "execution_count": 14,
   "metadata": {},
   "outputs": [
    {
     "name": "stdout",
     "output_type": "stream",
     "text": [
      "a= [1, 2, 3, 4]\n",
      "b= 5\n"
     ]
    }
   ],
   "source": [
    "a = [1, 2, 3]\n",
    "b = 5\n",
    "def func(x, y):\n",
    "    x.append(4)\n",
    "    y = y + 1\n",
    "func(a, b)\n",
    "print(\"a=\", a)  #  Output is [1, 2, 3, 4]\n",
    "print(\"b=\", b)  #  Output is 5"
   ]
  },
  {
   "cell_type": "code",
   "execution_count": 28,
   "metadata": {},
   "outputs": [
    {
     "name": "stdout",
     "output_type": "stream",
     "text": [
      "Local variable t = 10\n",
      "Nonlocal variable x = 5\n",
      "Local variable z = 20\n",
      "Nonlocal variable x = 5\n",
      "Nonlocal variable y = 6\n",
      "Nonlocal variable z = 10\n"
     ]
    }
   ],
   "source": [
    "def f(x):\n",
    "    y = 5\n",
    "    z = 10\n",
    "    t = 10\n",
    "    def g():\n",
    "        nonlocal y\n",
    "        y += 1\n",
    "        z = 20\n",
    "        print(\"Nonlocal variable x =\", x)\n",
    "        print(\"Local variable z =\", z) \n",
    "    print(\"Local variable t =\", t)    \n",
    "    g()\n",
    "    print(\"Nonlocal variable x =\", x)\n",
    "    print(\"Nonlocal variable y =\", y)\n",
    "    print(\"Nonlocal variable z =\", z)\n",
    "f(5)\n",
    "# This does not work:\n",
    "# g()"
   ]
  },
  {
   "cell_type": "code",
   "execution_count": 12,
   "metadata": {},
   "outputs": [
    {
     "name": "stdout",
     "output_type": "stream",
     "text": [
      "f is referring to  f definition\n",
      "g is referring to  g definition\n",
      "Swaping f and g\n",
      "f is referring to  g definition\n",
      "g is referring to  f definition\n"
     ]
    }
   ],
   "source": [
    "def f():\n",
    "    return(\"f definition\")\n",
    "def g():\n",
    "    return(\"g definition\")\n",
    "\n",
    "print(\"f is referring to \", f())\n",
    "print(\"g is referring to \", g())\n",
    "\n",
    "print(\"Swaping f and g\")\n",
    "temp = f\n",
    "f = g\n",
    "g = temp\n",
    "\n",
    "print(\"f is referring to \", f())\n",
    "print(\"g is referring to \", g())"
   ]
  },
  {
   "cell_type": "code",
   "execution_count": 25,
   "metadata": {},
   "outputs": [],
   "source": [
    "def compose(g, f):\n",
    "    def h(*args, **kwargs):\n",
    "        return g(f(*args, **kwargs))\n",
    "    return h"
   ]
  },
  {
   "cell_type": "code",
   "execution_count": 22,
   "metadata": {},
   "outputs": [
    {
     "name": "stdout",
     "output_type": "stream",
     "text": [
      "Calling  g1 using deco2\n",
      "Calling  func using deco1\n"
     ]
    },
    {
     "data": {
      "text/plain": [
       "4"
      ]
     },
     "execution_count": 22,
     "metadata": {},
     "output_type": "execute_result"
    }
   ],
   "source": [
    "def deco1(f):\n",
    "    def g1(*args, **kwargs):\n",
    "        print(\"Calling \", f.__name__, \"using deco1\")\n",
    "        return f(*args, **kwargs)\n",
    "    return g1\n",
    "def deco2(f):\n",
    "    def g2(*args, **kwargs):\n",
    "        print(\"Calling \", f.__name__, \"using deco2\")\n",
    "        return f(*args, **kwargs)\n",
    "    return g2\n",
    "def func(x):\n",
    "    return 2*x\n",
    "func = deco2(deco1(func))\n",
    "func(2)"
   ]
  },
  {
   "cell_type": "code",
   "execution_count": 29,
   "metadata": {},
   "outputs": [
    {
     "name": "stdout",
     "output_type": "stream",
     "text": [
      "Calling  g1 using deco2\n",
      "Calling  func using deco1\n"
     ]
    },
    {
     "data": {
      "text/plain": [
       "4"
      ]
     },
     "execution_count": 29,
     "metadata": {},
     "output_type": "execute_result"
    }
   ],
   "source": [
    "def deco1(f):\n",
    "    def g1(*args, **kwargs):\n",
    "        print(\"Calling \", f.__name__, \"using deco1\")\n",
    "        return f(*args, **kwargs)\n",
    "    return g1\n",
    "def deco2(f):\n",
    "    def g2(*args, **kwargs):\n",
    "        print(\"Calling \", f.__name__, \"using deco2\")\n",
    "        return f(*args, **kwargs)\n",
    "    return g2\n",
    "\n",
    "deco = compose(deco2, deco1) \n",
    "@deco\n",
    "def func(x):\n",
    "    return 2*x\n",
    "func(2)"
   ]
  },
  {
   "cell_type": "code",
   "execution_count": 28,
   "metadata": {},
   "outputs": [
    {
     "name": "stdout",
     "output_type": "stream",
     "text": [
      "Calling  g1 using deco2\n",
      "Calling  func using deco1\n"
     ]
    },
    {
     "data": {
      "text/plain": [
       "4"
      ]
     },
     "execution_count": 28,
     "metadata": {},
     "output_type": "execute_result"
    }
   ],
   "source": [
    "# Listing 30\n",
    "def deco1(f):\n",
    "    def g1(*args, **kwargs):\n",
    "        print(\"Calling \", f.__name__, \"using deco1\")\n",
    "        return f(*args, **kwargs)\n",
    "    return g1\n",
    "def deco2(f):\n",
    "    def g2(*args, **kwargs):\n",
    "        print(\"Calling \", f.__name__, \"using deco2\")\n",
    "        return f(*args, **kwargs)\n",
    "    return g2\n",
    "@deco2\n",
    "@deco1\n",
    "def func(x):\n",
    "    return 2*x\n",
    "func(2)"
   ]
  },
  {
   "cell_type": "code",
   "execution_count": 30,
   "metadata": {},
   "outputs": [],
   "source": [
    "# Listing 26\n",
    "def memoize(f):\n",
    "    memo = {}\n",
    "    def memoized_func(n):\n",
    "        if n not in memo:            \n",
    "            memo[n] = f(n)\n",
    "        return memo[n]\n",
    "    return memoized_func"
   ]
  },
  {
   "cell_type": "code",
   "execution_count": 31,
   "metadata": {},
   "outputs": [],
   "source": [
    "def debug(f):\n",
    "    level = 1\n",
    "    def helper(*arg):\n",
    "        nonlocal level\n",
    "        print((level-1)*\"  │\",  \"  ┌\",  f.__code__.co_name, \"(\", \", \".join(map(str, arg)), \")\", sep=\"\")\n",
    "        level += 1\n",
    "        result = f(*arg)\n",
    "        level -= 1\n",
    "        print((level-1)*\"  │\", \"  └\",  result, sep=\"\")\n",
    "        return result\n",
    "    return helper"
   ]
  },
  {
   "cell_type": "code",
   "execution_count": 33,
   "metadata": {},
   "outputs": [
    {
     "name": "stdout",
     "output_type": "stream",
     "text": [
      "  ┌memoized_func(5)\n",
      "  │  ┌memoized_func(4)\n",
      "  │  │  ┌memoized_func(3)\n",
      "  │  │  │  ┌memoized_func(2)\n",
      "  │  │  │  │  ┌memoized_func(1)\n",
      "  │  │  │  │  └1\n",
      "  │  │  │  │  ┌memoized_func(0)\n",
      "  │  │  │  │  └0\n",
      "  │  │  │  └1\n",
      "  │  │  │  ┌memoized_func(1)\n",
      "  │  │  │  └1\n",
      "  │  │  └2\n",
      "  │  │  ┌memoized_func(2)\n",
      "  │  │  └1\n",
      "  │  └3\n",
      "  │  ┌memoized_func(3)\n",
      "  │  └2\n",
      "  └5\n"
     ]
    },
    {
     "data": {
      "text/plain": [
       "5"
      ]
     },
     "execution_count": 33,
     "metadata": {},
     "output_type": "execute_result"
    }
   ],
   "source": [
    "@debug\n",
    "@memoize\n",
    "def fib(n):\n",
    "    if n == 0:\n",
    "        return 0\n",
    "    elif n == 1:\n",
    "        return 1\n",
    "    else:\n",
    "        return fib(n-1) + fib(n-2)\n",
    "fib(5)"
   ]
  },
  {
   "cell_type": "code",
   "execution_count": 34,
   "metadata": {},
   "outputs": [
    {
     "name": "stdout",
     "output_type": "stream",
     "text": [
      "  ┌memoized_func(6)\n",
      "  │  ┌memoized_func(5)\n",
      "  │  └5\n",
      "  │  ┌memoized_func(4)\n",
      "  │  └3\n",
      "  └8\n"
     ]
    },
    {
     "data": {
      "text/plain": [
       "8"
      ]
     },
     "execution_count": 34,
     "metadata": {},
     "output_type": "execute_result"
    }
   ],
   "source": [
    "fib(6)"
   ]
  },
  {
   "cell_type": "code",
   "execution_count": 42,
   "metadata": {},
   "outputs": [
    {
     "name": "stdout",
     "output_type": "stream",
     "text": [
      "Starting func\n"
     ]
    },
    {
     "data": {
      "text/plain": [
       "4"
      ]
     },
     "execution_count": 42,
     "metadata": {},
     "output_type": "execute_result"
    }
   ],
   "source": [
    "# Listing 33\n",
    "def deco(msg):\n",
    "    def helper(f):\n",
    "        def g(*args, **kwargs):\n",
    "            print(msg + \" \" + f.__name__)\n",
    "            return f(*args, **kwargs)\n",
    "        return g\n",
    "    return helper\n",
    "def func(x):\n",
    "    return 2*x\n",
    "func = deco(\"Starting\")(func)\n",
    "func(2)"
   ]
  },
  {
   "cell_type": "code",
   "execution_count": 43,
   "metadata": {},
   "outputs": [
    {
     "name": "stdout",
     "output_type": "stream",
     "text": [
      "Starting func\n"
     ]
    },
    {
     "data": {
      "text/plain": [
       "4"
      ]
     },
     "execution_count": 43,
     "metadata": {},
     "output_type": "execute_result"
    }
   ],
   "source": [
    "# Listing 33\n",
    "def deco(msg):\n",
    "    def helper(f):\n",
    "        def g(*args, **kwargs):\n",
    "            print(msg + \" \" + f.__name__)\n",
    "            return f(*args, **kwargs)\n",
    "        return g\n",
    "    return helper\n",
    "@deco(\"Starting\")\n",
    "def func(x):\n",
    "    return 2*x\n",
    "\n",
    "func(2)"
   ]
  },
  {
   "cell_type": "code",
   "execution_count": 44,
   "metadata": {},
   "outputs": [],
   "source": [
    "def curry(f):\n",
    "    argc = f.__code__.co_argcount\n",
    "    f_args = []\n",
    "    f_kwargs = {}\n",
    "    def g(*args, **kwargs):\n",
    "        nonlocal f_args, f_kwargs\n",
    "        f_args += args\n",
    "        f_kwargs.update(kwargs)\n",
    "        if len(f_args)+len(f_kwargs) == argc:\n",
    "            return f(*f_args, **f_kwargs)\n",
    "        else:\n",
    "            return g          \n",
    "    return g"
   ]
  },
  {
   "cell_type": "code",
   "execution_count": 45,
   "metadata": {},
   "outputs": [
    {
     "name": "stdout",
     "output_type": "stream",
     "text": [
      "Starting func\n"
     ]
    },
    {
     "data": {
      "text/plain": [
       "4"
      ]
     },
     "execution_count": 45,
     "metadata": {},
     "output_type": "execute_result"
    }
   ],
   "source": [
    "@curry\n",
    "def deco(msg, f):\n",
    "    def g(*args, **kwargs):\n",
    "        print(msg + \" \" + f.__name__)\n",
    "        return f(*args, **kwargs)\n",
    "    return g\n",
    "    \n",
    "@deco(\"Starting\")\n",
    "def func(x):\n",
    "    return 2*x\n",
    "\n",
    "func(2)"
   ]
  },
  {
   "cell_type": "code",
   "execution_count": 49,
   "metadata": {},
   "outputs": [
    {
     "name": "stdout",
     "output_type": "stream",
     "text": [
      "Starting func\n"
     ]
    },
    {
     "data": {
      "text/plain": [
       "4"
      ]
     },
     "execution_count": 49,
     "metadata": {},
     "output_type": "execute_result"
    }
   ],
   "source": [
    "@curry\n",
    "def deco(msg, f, x):\n",
    "    print(msg + \" \" + f.__name__)\n",
    "    return f(x)\n",
    "    \n",
    "    \n",
    "@deco(\"Starting\")\n",
    "def func(x):\n",
    "    return 2*x\n",
    "\n",
    "func(2)"
   ]
  },
  {
   "cell_type": "code",
   "execution_count": 60,
   "metadata": {},
   "outputs": [],
   "source": [
    "@curry\n",
    "def g(*args):\n",
    "    print(args)"
   ]
  },
  {
   "cell_type": "code",
   "execution_count": null,
   "metadata": {},
   "outputs": [],
   "source": []
  },
  {
   "cell_type": "code",
   "execution_count": null,
   "metadata": {},
   "outputs": [],
   "source": []
  }
 ],
 "metadata": {
  "celltoolbar": "Raw Cell Format",
  "kernelspec": {
   "display_name": "Python 3",
   "language": "python",
   "name": "python3"
  },
  "language_info": {
   "codemirror_mode": {
    "name": "ipython",
    "version": 3
   },
   "file_extension": ".py",
   "mimetype": "text/x-python",
   "name": "python",
   "nbconvert_exporter": "python",
   "pygments_lexer": "ipython3",
   "version": "3.7.1"
  }
 },
 "nbformat": 4,
 "nbformat_minor": 2
}
